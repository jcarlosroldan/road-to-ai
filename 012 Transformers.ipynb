{
 "cells": [
  {
   "cell_type": "markdown",
   "metadata": {},
   "source": [
    "# `012` Transformers\n",
    "\n",
    "Requirements: 007 Batch normalization, 009 Embeddings, 010 Residual connections, 011 Attention"
   ]
  }
 ],
 "metadata": {
  "language_info": {
   "name": "python"
  }
 },
 "nbformat": 4,
 "nbformat_minor": 2
}
