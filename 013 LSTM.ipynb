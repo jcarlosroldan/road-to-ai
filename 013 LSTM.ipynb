{
 "cells": [
  {
   "cell_type": "markdown",
   "metadata": {},
   "source": [
    "# `013` Long short-term memory (LSTM) networks\n",
    "\n",
    "Requirements: 012 Recurrent neural networks"
   ]
  }
 ],
 "metadata": {
  "language_info": {
   "name": "python"
  }
 },
 "nbformat": 4,
 "nbformat_minor": 2
}
