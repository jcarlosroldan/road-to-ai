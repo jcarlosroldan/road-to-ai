{
 "cells": [
  {
   "cell_type": "markdown",
   "metadata": {},
   "source": [
    "# `003` Backpropagation engine\n",
    "\n",
    "Requirements: 001 Derivatives, 002 Gradient descent."
   ]
  }
 ],
 "metadata": {
  "language_info": {
   "name": "python"
  }
 },
 "nbformat": 4,
 "nbformat_minor": 2
}
