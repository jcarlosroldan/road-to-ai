{
 "cells": [
  {
   "cell_type": "markdown",
   "metadata": {},
   "source": [
    "# `003` Backpropagation engine\n",
    "\n",
    "Requirements: [001 Derivatives](./001+Derivatives.ipynb), [002 Gradient descent](./002+Gradient+descent.ipynb)."
   ]
  }
 ],
 "metadata": {
  "language_info": {
   "name": "python"
  }
 },
 "nbformat": 4,
 "nbformat_minor": 2
}
