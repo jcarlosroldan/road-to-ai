{
 "cells": [
  {
   "cell_type": "markdown",
   "metadata": {},
   "source": [
    "# `022` Longformer\n",
    "\n",
    "⚡⚡⚡YET TO BE BUILT⚡⚡⚡\n",
    "\n",
    "https://arxiv.org/pdf/2004.05150"
   ]
  }
 ],
 "metadata": {
  "language_info": {
   "name": "python"
  }
 },
 "nbformat": 4,
 "nbformat_minor": 2
}
