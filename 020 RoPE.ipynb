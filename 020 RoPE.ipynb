{
 "cells": [
  {
   "cell_type": "markdown",
   "metadata": {},
   "source": [
    "# `020` Rotary position embeddings\n",
    "\n",
    "⚡⚡⚡YET TO BE BUILT⚡⚡⚡\n",
    "\n",
    "https://arxiv.org/pdf/2104.09864"
   ]
  }
 ],
 "metadata": {
  "language_info": {
   "name": "python"
  }
 },
 "nbformat": 4,
 "nbformat_minor": 2
}
