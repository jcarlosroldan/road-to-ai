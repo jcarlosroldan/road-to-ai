{
 "cells": [
  {
   "cell_type": "markdown",
   "metadata": {},
   "source": [
    "# `007` Batch normalization\n",
    "\n",
    "Requirements: 006 Pytorch\n",
    "\n",
    "Since neural networks are universal approximators, stacking many layers can help us model complex functions (this is why deep learning is called deep). However, as we stack more layers, we can run into problems with optimization. One of the main issues is that the weights in the initial layers can create very large or very small butterfly effects in the later layers. This can make training very slow or even impossible. Very large effects can cause the gradients to explode, while very small effects can cause the gradients to vanish. Hence, when doing gradient descent and multiplying the gradient by the learning rate, the weights can become very large or very small.\n",
    "\n",
    "Let see this problem in action with the MNIST problem from the Pytorch notebook and using a deep network."
   ]
  },
  {
   "cell_type": "code",
   "execution_count": 1,
   "metadata": {},
   "outputs": [
    {
     "name": "stdout",
     "output_type": "stream",
     "text": [
      "Training model with 117450 parameters\n",
      "Iteration 0, loss: 2.309044361114502\n",
      "Iteration 500, loss: 2.3094637393951416\n",
      "Accuracy on the test set: 11.35%\n"
     ]
    }
   ],
   "source": [
    "import torch\n",
    "import torchvision\n",
    "\n",
    "# load the MNIST dataset\n",
    "train = torchvision.datasets.MNIST(root='data', download=True)\n",
    "test = torchvision.datasets.MNIST(root='data', download=True, train=False)\n",
    "x = train.data.view(-1, 28 * 28).float()\n",
    "xt = test.data.view(-1, 28 * 28).float()\n",
    "y = torch.nn.functional.one_hot(train.targets).float()\n",
    "yt = torch.nn.functional.one_hot(test.targets).float()\n",
    "\n",
    "# initialize a deep neural network\n",
    "model = [torch.nn.Linear(28 * 28, 64), torch.nn.ReLU()]\n",
    "for _ in range(16):\n",
    "\tmodel.extend([\n",
    "\t\ttorch.nn.Linear(64, 64),\n",
    "\t\ttorch.nn.ReLU()\n",
    "\t])\n",
    "model.append(torch.nn.Linear(64, 10))\n",
    "model = torch.nn.Sequential(*model)\n",
    "\n",
    "# train the model\n",
    "print(f'Training model with {sum(p.numel() for p in model.parameters())} parameters')\n",
    "optimizer = torch.optim.SGD(model.parameters(), lr=0.01)\n",
    "for i in range(1000):\n",
    "\tix = torch.randint(0, x.shape[0], (32,))\n",
    "\txb, yb = x[ix], y[ix]\n",
    "\tlogits = model(xb)\n",
    "\tloss = torch.nn.functional.cross_entropy(logits, yb.argmax(dim=1))\n",
    "\toptimizer.zero_grad()\n",
    "\tloss.backward()\n",
    "\toptimizer.step()\n",
    "\tif i % 500 == 0: print(f'Iteration {i}, loss: {loss.item()}')\n",
    "accuracy = (model(xt).argmax(dim=1) == yt.argmax(dim=1)).float().mean().item()\n",
    "print(f'Accuracy on the test set: {100 * accuracy:.2f}%')"
   ]
  },
  {
   "cell_type": "markdown",
   "metadata": {},
   "source": [
    "Classification accuracy dropped to $11\\%$, which is barely better than random guessing. Let's examine the gradients of the first layer."
   ]
  },
  {
   "cell_type": "code",
   "execution_count": 2,
   "metadata": {},
   "outputs": [
    {
     "data": {
      "image/png": "[encoded data removed]",
      "text/plain": [
       "<Figure size 640x480 with 1 Axes>"
      ]
     },
     "metadata": {},
     "output_type": "display_data"
    }
   ],
   "source": [
    "from matplotlib import pyplot as plt\n",
    "\n",
    "gradients = []\n",
    "for layer in model:\n",
    "\tif isinstance(layer, torch.nn.Linear):\n",
    "\t\tgradients.append(layer.weight.grad.mean().abs().item())\n",
    "plt.bar(range(len(gradients)), gradients)\n",
    "plt.yscale('log')"
   ]
  },
  {
   "cell_type": "markdown",
   "metadata": {},
   "source": [
    "We can't see that the gradients are extremely small, which is why the weights are not updating. To solve this vanishing gradients problem we will define a normalization layer that will normalize the input to have zero mean and unit variance. This will help the gradients to be more stable and not vanish. We'll have to be careful, because if we use a full batch for normalizing during training, when we use the model for inference over a single example, the normalization will be different. To solve this, we will use the running mean and variance of the training data to normalize the input during inference."
   ]
  },
  {
   "cell_type": "code",
   "execution_count": 3,
   "metadata": {},
   "outputs": [],
   "source": [
    "class BatchNorm(torch.nn.Module):\n",
    "\tdef __init__(self, size):\n",
    "\t\tsuper().__init__()\n",
    "\t\tself.size = size\n",
    "\t\tself.gamma = torch.nn.Parameter(torch.ones(size))\n",
    "\t\tself.beta = torch.nn.Parameter(torch.zeros(size))\n",
    "\t\tself.register_buffer('running_mean', torch.zeros(size))\n",
    "\t\tself.register_buffer('running_var', torch.ones(size))\n",
    "\n",
    "\tdef forward(self, x):\n",
    "\t\tif self.training:\n",
    "\t\t\tmean = x.mean(dim=0)\n",
    "\t\t\tvar = x.var(dim=0)\n",
    "\t\t\tself.running_mean = 0.9 * self.running_mean + 0.1 * mean\n",
    "\t\t\tself.running_var = 0.9 * self.running_var + 0.1 * var\n",
    "\t\telse:\n",
    "\t\t\tmean = self.running_mean\n",
    "\t\t\tvar = self.running_var\n",
    "\t\tx = (x - mean) / (var + 1e-5).sqrt()\n",
    "\t\tx = x * self.gamma + self.beta\n",
    "\t\treturn x"
   ]
  },
  {
   "cell_type": "markdown",
   "metadata": {},
   "source": [
    "Let's try to understand what's going on here:\n",
    "* We define a new class `BatchNorm` that inherits from `torch.nn.Module`, which is the base class for all neural network modules in PyTorch.\n",
    "* The constructor of `BatchNorm` takes a single argument `size`, which is the number of features in the input tensor.\n",
    "* We then define two trainable parameters `gamma` and `beta`, which are used to scale and shift the normalized tensor. By defining tensors in `self`, pytorch automatically registers them as learnable parameters of the module.\n",
    "* We also define two buffers `running_mean` and `running_var`, which are used to keep track of the running mean and variance of the input tensor. In contrast to parameters, **buffers** are not updated by the optimizer during training.\n",
    "* If the module is in training mode, we compute the mean and variance of the input tensor along the batch dimension using the `mean` and `var` methods. We then update the running mean and variance using an exponential moving average.\n",
    "* The normalized tensor is then scaled by `gamma` and shifted by `beta` to obtain the final output."
   ]
  },
  {
   "cell_type": "code",
   "execution_count": 4,
   "metadata": {},
   "outputs": [
    {
     "name": "stdout",
     "output_type": "stream",
     "text": [
      "Training model with 118474 parameters\n",
      "Iteration 0, loss: 2.4056687355041504\n",
      "Iteration 500, loss: 1.0394861698150635\n",
      "Accuracy on the test set: 89.57%\n"
     ]
    }
   ],
   "source": [
    "# initialize a deep neural network\n",
    "model = [torch.nn.Linear(28 * 28, 64), torch.nn.ReLU()]\n",
    "for _ in range(16):\n",
    "\tmodel.extend([\n",
    "\t\ttorch.nn.Linear(64, 64, bias=False),  # <-------------- no bias since batchnorm has beta which is the same\n",
    "\t\tBatchNorm(64),  # <-------------- batch norm\n",
    "\t\ttorch.nn.ReLU()\n",
    "\t])\n",
    "model.append(torch.nn.Linear(64, 10))\n",
    "model = torch.nn.Sequential(*model)\n",
    "\n",
    "# train the model\n",
    "print(f'Training model with {sum(p.numel() for p in model.parameters())} parameters')\n",
    "model.train()  # <------------------- this is now needed for self.training in BatchNorm to work\n",
    "optimizer = torch.optim.SGD(model.parameters(), lr=0.01)\n",
    "for i in range(1000):\n",
    "\tix = torch.randint(0, x.shape[0], (32,))\n",
    "\txb, yb = x[ix], y[ix]\n",
    "\tlogits = model(xb)\n",
    "\tloss = torch.nn.functional.cross_entropy(logits, yb.argmax(dim=1))\n",
    "\toptimizer.zero_grad()\n",
    "\tloss.backward()\n",
    "\toptimizer.step()\n",
    "\tif i % 500 == 0: print(f'Iteration {i}, loss: {loss.item()}')\n",
    "model.eval()  # <------------------- this is now needed for self.training in BatchNorm to work\n",
    "accuracy = (model(xt).argmax(dim=1) == yt.argmax(dim=1)).float().mean().item()\n",
    "print(f'Accuracy on the test set: {100 * accuracy:.2f}%')"
   ]
  },
  {
   "cell_type": "markdown",
   "metadata": {},
   "source": [
    "This is much better than before! Why did we get such a big improvement? Let's plot our gradients again:"
   ]
  },
  {
   "cell_type": "code",
   "execution_count": 5,
   "metadata": {},
   "outputs": [
    {
     "data": {
      "image/png": "[encoded data removed]",
      "text/plain": [
       "<Figure size 640x480 with 1 Axes>"
      ]
     },
     "metadata": {},
     "output_type": "display_data"
    }
   ],
   "source": [
    "gradients = []\n",
    "for layer in model:\n",
    "\tif isinstance(layer, torch.nn.Linear):\n",
    "\t\tgradients.append(layer.weight.grad.mean().abs().item())\n",
    "plt.bar(range(len(gradients)), gradients);"
   ]
  },
  {
   "cell_type": "markdown",
   "metadata": {},
   "source": [
    "The gradient values are significantly larger than before, which is why the weights are updating. This is because the normalization layer helps the gradients to be more stable and not vanish.\n",
    "\n",
    "Although batch normalization solves the vanishing gradients problem, it introduces the problem of elements from the same batch being dependent on each other. This dependency makes the model's input features in production different from the input features during training. That problem is called **internal covariate shift**, and it can make the model less robust and can lead to overfitting. More normalization techniques have been proposed to solve this problem."
   ]
  }
 ],
 "metadata": {
  "kernelspec": {
   "display_name": "Python 3",
   "language": "python",
   "name": "python3"
  },
  "language_info": {
   "codemirror_mode": {
    "name": "ipython",
    "version": 3
   },
   "file_extension": ".py",
   "mimetype": "text/x-python",
   "name": "python",
   "nbconvert_exporter": "python",
   "pygments_lexer": "ipython3",
   "version": "3.11.8"
  }
 },
 "nbformat": 4,
 "nbformat_minor": 2
}
