{
 "cells": [
  {
   "cell_type": "markdown",
   "metadata": {},
   "source": [
    "# `023` Root Mean Square layer normalization\n",
    "\n",
    "Requirements: 008 Batch normalization\n",
    "\n",
    "⚡⚡⚡YET TO BE BUILT⚡⚡⚡"
   ]
  }
 ],
 "metadata": {
  "language_info": {
   "name": "python"
  }
 },
 "nbformat": 4,
 "nbformat_minor": 2
}
