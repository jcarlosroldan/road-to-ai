{
 "cells": [
  {
   "cell_type": "markdown",
   "metadata": {},
   "source": [
    "WIP"
   ]
  },
  {
   "cell_type": "code",
   "execution_count": 1,
   "metadata": {},
   "outputs": [
    {
     "data": {
      "text/plain": [
       "torch.Size([10, 128, 512])"
      ]
     },
     "execution_count": 1,
     "metadata": {},
     "output_type": "execute_result"
    }
   ],
   "source": [
    "import torch\n",
    "\n",
    "class MultiQueryAttention(torch.nn.Module):\n",
    "\tdef __init__(self, heads=8, hidden_size=512):\n",
    "\t\tsuper().__init__()\n",
    "\t\tself.heads = heads\n",
    "\t\tself.W_k = torch.nn.Linear(hidden_size, hidden_size // heads, bias=False)\n",
    "\t\tself.W_q = torch.nn.Linear(hidden_size, hidden_size, bias=False)\n",
    "\t\tself.W_v = torch.nn.Linear(hidden_size, hidden_size // heads, bias=False)\n",
    "\t\t# TODO show it can be a single linear layer of (hidden_size, hidden_size + 2 * hidden_size // heads\n",
    "\t\n",
    "\tdef forward(self, x):\n",
    "\t\tB, C, H = x.shape\n",
    "\t\td = H // self.heads\n",
    "\t\tk = self.W_k(x).unsqueeze(-3)  # add heads dimension\n",
    "\t\tq = self.W_q(x).view(B, C, self.heads, d).transpose(-2, -3)\n",
    "\t\tatt = q @ k.transpose(-1, -2)\n",
    "\t\tatt = (att / d**5).softmax(dim=-1)\n",
    "\t\tv = self.W_v(x).unsqueeze(-3)\n",
    "\t\tx = (att @ v).transpose(-3, -2).reshape(B, C, H)\n",
    "\t\treturn x\n",
    "\n",
    "mqa = MultiQueryAttention()\n",
    "x = torch.randn(10, 128, 512)\n",
    "mqa(x).shape"
   ]
  }
 ],
 "metadata": {
  "kernelspec": {
   "display_name": "Python 3",
   "language": "python",
   "name": "python3"
  },
  "language_info": {
   "codemirror_mode": {
    "name": "ipython",
    "version": 3
   },
   "file_extension": ".py",
   "mimetype": "text/x-python",
   "name": "python",
   "nbconvert_exporter": "python",
   "pygments_lexer": "ipython3",
   "version": "3.12.4"
  }
 },
 "nbformat": 4,
 "nbformat_minor": 2
}
