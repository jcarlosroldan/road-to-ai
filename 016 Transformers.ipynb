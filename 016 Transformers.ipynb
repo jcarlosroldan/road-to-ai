{
 "cells": [
  {
   "cell_type": "markdown",
   "metadata": {},
   "source": [
    "# `016` Transformers\n",
    "\n",
    "Requirements: 014 Attention and dropout, 015 Residual connections\n",
    "\n",
    "Attention mechanisms were proposed as a way to make the RNN inputs contain information about other terms in the sequence. This way, every sequence element can be contextualized properly with the information from other tokens. However, an architecture called transformer proposed by [Vaswani et al., 2017](https://arxiv.org/abs/1706.03762) took the world by surprise.\n",
    "\n",
    "Basically, he removed the RNN layers and used just a bunch of linear layers, attention mechanisms, residual connections and normalization. Applied in the context of German to English translation, the architecture achieved better quality (BLEU score) than any previous model. Furthermore, applying it over general text corpuses created a level of generalization pretty impressive and scalable with model size.\n",
    "\n",
    "In this notebook I will define a transformer block, build a model with many of them, and train it over a corpus of educational content called FineWeb-EDU."
   ]
  },
  {
   "cell_type": "code",
   "execution_count": 1,
   "metadata": {},
   "outputs": [],
   "source": [
    "import torch"
   ]
  },
  {
   "cell_type": "code",
   "execution_count": null,
   "metadata": {},
   "outputs": [],
   "source": [
    "class Transformer:\n",
    "\tdef __init__(self, num_embeddings=128, embed_dim=32, num_heads=4, dropout=.2):\n",
    "\t\tsuper().__init__()\n",
    "\t\tself.tok_embed = torch.nn.Embedding(num_embeddings, embed_dim)\n",
    "\t\tself.pos_embed = torch.nn.Embedding(num_embeddings, embed_dim)\n",
    "\t\tself.blocks = \n",
    "\n",
    "class TransformerBlock:\n",
    "\tdef __init__(self, embed_dim=32, num_heads=4, dropout=.2):\n",
    "\t\tself.attention = torch.nn.MultiheadAttention(embed_dim, num_heads, dropout)\n",
    "\t\tself.linear = torch.nn.Linear(embed_dim, embed_dim)"
   ]
  }
 ],
 "metadata": {
  "kernelspec": {
   "display_name": "Python 3",
   "language": "python",
   "name": "python3"
  },
  "language_info": {
   "codemirror_mode": {
    "name": "ipython",
    "version": 3
   },
   "file_extension": ".py",
   "mimetype": "text/x-python",
   "name": "python",
   "nbconvert_exporter": "python",
   "pygments_lexer": "ipython3",
   "version": "3.11.9"
  }
 },
 "nbformat": 4,
 "nbformat_minor": 2
}
