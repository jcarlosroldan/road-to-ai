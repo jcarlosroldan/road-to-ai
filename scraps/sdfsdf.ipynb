{
 "cells": [
  {
   "cell_type": "code",
   "execution_count": 5,
   "metadata": {},
   "outputs": [],
   "source": [
    "import torch\n",
    "import torchvision\n",
    "from matplotlib import pyplot as plt\n",
    "\n",
    "device = torch.device('cuda' if torch.cuda.is_available() else 'cpu')"
   ]
  },
  {
   "cell_type": "code",
   "execution_count": 6,
   "metadata": {},
   "outputs": [
    {
     "data": {
      "text/plain": [
       "(torch.Size([60000, 784]), torch.Size([10000, 784]))"
      ]
     },
     "execution_count": 6,
     "metadata": {},
     "output_type": "execute_result"
    }
   ],
   "source": [
    "# load the MNIST dataset\n",
    "train = torchvision.datasets.MNIST(root='data', download=True)\n",
    "test = torchvision.datasets.MNIST(root='data', train=False, download=True)\n",
    "\n",
    "x_train = train.data.view(-1, 28 * 28).float().to(device)\n",
    "y_train = torch.nn.functional.one_hot(train.targets).float().to(device)\n",
    "x_test = test.data.view(-1, 28 * 28).float().to(device)\n",
    "y_test = torch.nn.functional.one_hot(test.targets).float().to(device)\n",
    "\n",
    "x_train.shape, x_test.shape"
   ]
  },
  {
   "cell_type": "code",
   "execution_count": 3,
   "metadata": {},
   "outputs": [],
   "source": [
    "x_train, x_test = x_test, x_train\n",
    "y_train, y_test = y_test, y_train"
   ]
  },
  {
   "cell_type": "code",
   "execution_count": 4,
   "metadata": {},
   "outputs": [
    {
     "name": "stdout",
     "output_type": "stream",
     "text": [
      "Training model with 309510 parameters\n",
      "Accuracy on the test set: 96.32%\n"
     ]
    },
    {
     "data": {
      "image/png": "[encoded data removed]",
      "text/plain": [
       "<Figure size 640x480 with 1 Axes>"
      ]
     },
     "metadata": {},
     "output_type": "display_data"
    }
   ],
   "source": [
    "# initialize a deep neural network\n",
    "model = torch.nn.Sequential(\n",
    "\t# input\n",
    "\ttorch.nn.Linear(28 * 28, 300),\n",
    "\ttorch.nn.ReLU(),\n",
    "\t# hidden\n",
    "\ttorch.nn.Linear(300, 100, bias=False),\n",
    "\ttorch.nn.BatchNorm1d(100),\n",
    "\ttorch.nn.ReLU(),\n",
    "\ttorch.nn.Linear(100, 100, bias=False),\n",
    "\ttorch.nn.BatchNorm1d(100),\n",
    "\ttorch.nn.ReLU(),\n",
    "\ttorch.nn.Linear(100, 300, bias=False),\n",
    "\ttorch.nn.BatchNorm1d(300),\n",
    "\ttorch.nn.ReLU(),\n",
    "\t# output\n",
    "\ttorch.nn.Linear(300, 10)\n",
    ").to(device)\n",
    "\n",
    "# train the model\n",
    "print(f'Training model with {sum(p.numel() for p in model.parameters())} parameters')\n",
    "optimizer = torch.optim.SGD(model.parameters(), lr=0.1)\n",
    "train_losses, test_losses = [], []\n",
    "for i in range(100000):\n",
    "\tbatch_ix = torch.randint(0, x_train.shape[0], (128,))\n",
    "\tx_batch, y_batch = x_train[batch_ix], y_train[batch_ix]\n",
    "\tlogits = model(x_batch)\n",
    "\tloss = torch.nn.functional.cross_entropy(logits, y_batch.argmax(dim=1))\n",
    "\toptimizer.zero_grad()\n",
    "\tloss.backward()\n",
    "\toptimizer.step()\n",
    "\t# stats\n",
    "\tif i % 1000 == 0:\n",
    "\t\ttrain_losses.append(loss.item())\n",
    "\t\tmodel.eval()\n",
    "\t\tlogits = model(x_test)\n",
    "\t\tloss = torch.nn.functional.cross_entropy(logits, y_test.argmax(dim=1))\n",
    "\t\ttest_losses.append(loss.item())\n",
    "\t\tmodel.train()\n",
    "\n",
    "model.eval()  # <------------------- this is now needed for self.training in BatchNorm to work\n",
    "accuracy = (model(x_test).argmax(dim=1) == y_test.argmax(dim=1)).float().mean().item()\n",
    "print(f'Accuracy on the test set: {100 * accuracy:.2f}%')\n",
    "\n",
    "iters = range(0, 100000, 1000)\n",
    "plt.plot(iters, train_losses, label='train')\n",
    "plt.plot(iters, test_losses, label='test')\n",
    "plt.legend();"
   ]
  }
 ],
 "metadata": {
  "kernelspec": {
   "display_name": "Python 3",
   "language": "python",
   "name": "python3"
  },
  "language_info": {
   "codemirror_mode": {
    "name": "ipython",
    "version": 3
   },
   "file_extension": ".py",
   "mimetype": "text/x-python",
   "name": "python",
   "nbconvert_exporter": "python",
   "pygments_lexer": "ipython3",
   "version": "3.11.8"
  }
 },
 "nbformat": 4,
 "nbformat_minor": 2
}
